{
 "cells": [
  {
   "cell_type": "code",
   "execution_count": 1,
   "metadata": {},
   "outputs": [],
   "source": [
    "import pandas as pd\n",
    "import matplotlib.pyplot as plt\n",
    "import seaborn as sns"
   ]
  },
  {
   "cell_type": "markdown",
   "metadata": {},
   "source": [
    "# F&B Revenue Forecast Model"
   ]
  },
  {
   "cell_type": "markdown",
   "metadata": {},
   "source": [
    "## Data"
   ]
  },
  {
   "cell_type": "code",
   "execution_count": 2,
   "metadata": {},
   "outputs": [],
   "source": [
    "#Loading the raw data\n",
    "\n",
    "df_2016 = pd.read_csv(\"raw_data/orders2016.csv\", sep=\";\")\n",
    "df_2017 = pd.read_csv(\"raw_data/orders2017.csv\", sep=\";\")\n",
    "df_2018 = pd.read_csv(\"raw_data/orders2018.csv\", sep=\";\")\n",
    "df_2019 = pd.read_csv(\"raw_data/orders2019.csv\", sep=\";\")\n",
    "df_2020 = pd.read_csv(\"raw_data/orders2020.csv\", sep=\";\")\n",
    "df_2021 = pd.read_csv(\"raw_data/orders2021.csv\", sep=\";\")\n",
    "df_2022 = pd.read_csv(\"raw_data/orders2022.csv\", sep=\";\")\n",
    "\n",
    "df_list = [df_2016, df_2017, df_2018, df_2019, df_2020, df_2021, df_2022]"
   ]
  },
  {
   "cell_type": "code",
   "execution_count": 3,
   "metadata": {},
   "outputs": [
    {
     "data": {
      "text/html": [
       "<div>\n",
       "<style scoped>\n",
       "    .dataframe tbody tr th:only-of-type {\n",
       "        vertical-align: middle;\n",
       "    }\n",
       "\n",
       "    .dataframe tbody tr th {\n",
       "        vertical-align: top;\n",
       "    }\n",
       "\n",
       "    .dataframe thead th {\n",
       "        text-align: right;\n",
       "    }\n",
       "</style>\n",
       "<table border=\"1\" class=\"dataframe\">\n",
       "  <thead>\n",
       "    <tr style=\"text-align: right;\">\n",
       "      <th></th>\n",
       "      <th>id</th>\n",
       "      <th>date</th>\n",
       "      <th>time</th>\n",
       "      <th>quantity</th>\n",
       "      <th>item_id</th>\n",
       "      <th>item_name</th>\n",
       "      <th>item_plu</th>\n",
       "      <th>item_price</th>\n",
       "      <th>expense_item</th>\n",
       "      <th>cancelled</th>\n",
       "      <th>...</th>\n",
       "      <th>device_name</th>\n",
       "      <th>device_number</th>\n",
       "      <th>device_id</th>\n",
       "      <th>table_name</th>\n",
       "      <th>table_id</th>\n",
       "      <th>tab_name</th>\n",
       "      <th>tab_id</th>\n",
       "      <th>party_name</th>\n",
       "      <th>party_number</th>\n",
       "      <th>party_id</th>\n",
       "    </tr>\n",
       "  </thead>\n",
       "  <tbody>\n",
       "    <tr>\n",
       "      <th>0</th>\n",
       "      <td>689E8A27-629F-43C4-B458-251F245F5A8E</td>\n",
       "      <td>2018-04-22</td>\n",
       "      <td>14:01:47</td>\n",
       "      <td>1</td>\n",
       "      <td>6742FD21-98EF-4543-AD03-D615DD32741F</td>\n",
       "      <td>Waffle + A WHITE CHOCO</td>\n",
       "      <td>0</td>\n",
       "      <td>740</td>\n",
       "      <td>0</td>\n",
       "      <td>0</td>\n",
       "      <td>...</td>\n",
       "      <td>iPad</td>\n",
       "      <td>1</td>\n",
       "      <td>A7BAF1FB-C744-42BB-9421-9016398B6356</td>\n",
       "      <td>Theke</td>\n",
       "      <td>8189E65F-0D1D-4830-9A9A-5EDC54E0DF47</td>\n",
       "      <td>Theke</td>\n",
       "      <td>000008A2-13BE-40B3-A1A6-9C054D4FF5B9</td>\n",
       "      <td>Partei 1</td>\n",
       "      <td>0</td>\n",
       "      <td>825E8016-9802-4A69-A25B-3F95C27D1280</td>\n",
       "    </tr>\n",
       "    <tr>\n",
       "      <th>1</th>\n",
       "      <td>05AB42CE-0ED7-423A-A241-C7D0D412B082</td>\n",
       "      <td>2018-04-21</td>\n",
       "      <td>15:21:28</td>\n",
       "      <td>1</td>\n",
       "      <td>A1A8AB5A-AE65-4EB6-B52E-71813E7C97DF</td>\n",
       "      <td>C Classic CHOCOLATE</td>\n",
       "      <td>0</td>\n",
       "      <td>390</td>\n",
       "      <td>0</td>\n",
       "      <td>0</td>\n",
       "      <td>...</td>\n",
       "      <td>iPad</td>\n",
       "      <td>1</td>\n",
       "      <td>A7BAF1FB-C744-42BB-9421-9016398B6356</td>\n",
       "      <td>Theke</td>\n",
       "      <td>8189E65F-0D1D-4830-9A9A-5EDC54E0DF47</td>\n",
       "      <td>Theke</td>\n",
       "      <td>0002678D-1635-4CCC-B2EF-3536C931EA23</td>\n",
       "      <td>Partei 1</td>\n",
       "      <td>0</td>\n",
       "      <td>28D2D25E-E573-476B-8A0D-A15A5C6BBEFC</td>\n",
       "    </tr>\n",
       "    <tr>\n",
       "      <th>2</th>\n",
       "      <td>D889B52F-B5BC-4DBE-BA15-38DF81465708</td>\n",
       "      <td>2018-05-05</td>\n",
       "      <td>16:35:49</td>\n",
       "      <td>1</td>\n",
       "      <td>54710C6E-662B-45FE-8874-1EBD27BC5CBF</td>\n",
       "      <td>A Classic VANILLA</td>\n",
       "      <td>0</td>\n",
       "      <td>440</td>\n",
       "      <td>0</td>\n",
       "      <td>0</td>\n",
       "      <td>...</td>\n",
       "      <td>iPad</td>\n",
       "      <td>1</td>\n",
       "      <td>A7BAF1FB-C744-42BB-9421-9016398B6356</td>\n",
       "      <td>Theke</td>\n",
       "      <td>8189E65F-0D1D-4830-9A9A-5EDC54E0DF47</td>\n",
       "      <td>Theke</td>\n",
       "      <td>0003CFB9-B99A-4D1F-ADF8-BA783942A3C1</td>\n",
       "      <td>Partei 1</td>\n",
       "      <td>0</td>\n",
       "      <td>1A181490-FBA6-4DC8-9D80-3C4883FD97EB</td>\n",
       "    </tr>\n",
       "    <tr>\n",
       "      <th>3</th>\n",
       "      <td>BDA43D01-74EA-48A4-BD5C-C4D6CDDB679C</td>\n",
       "      <td>2018-05-05</td>\n",
       "      <td>16:35:49</td>\n",
       "      <td>1</td>\n",
       "      <td>ED12F302-549B-436D-A19A-A60D74D46F5F</td>\n",
       "      <td>B Classic CHOCOLATE</td>\n",
       "      <td>0</td>\n",
       "      <td>440</td>\n",
       "      <td>0</td>\n",
       "      <td>0</td>\n",
       "      <td>...</td>\n",
       "      <td>iPad</td>\n",
       "      <td>1</td>\n",
       "      <td>A7BAF1FB-C744-42BB-9421-9016398B6356</td>\n",
       "      <td>Theke</td>\n",
       "      <td>8189E65F-0D1D-4830-9A9A-5EDC54E0DF47</td>\n",
       "      <td>Theke</td>\n",
       "      <td>0003CFB9-B99A-4D1F-ADF8-BA783942A3C1</td>\n",
       "      <td>Partei 1</td>\n",
       "      <td>0</td>\n",
       "      <td>1A181490-FBA6-4DC8-9D80-3C4883FD97EB</td>\n",
       "    </tr>\n",
       "    <tr>\n",
       "      <th>4</th>\n",
       "      <td>3736E95B-CC65-4B9A-BC0C-ADFFA9D18950</td>\n",
       "      <td>2018-05-05</td>\n",
       "      <td>16:35:49</td>\n",
       "      <td>1</td>\n",
       "      <td>F2162A86-15D4-49CC-943E-9071CC7BC786</td>\n",
       "      <td>D Classic RASPBERRY</td>\n",
       "      <td>0</td>\n",
       "      <td>390</td>\n",
       "      <td>0</td>\n",
       "      <td>0</td>\n",
       "      <td>...</td>\n",
       "      <td>iPad</td>\n",
       "      <td>1</td>\n",
       "      <td>A7BAF1FB-C744-42BB-9421-9016398B6356</td>\n",
       "      <td>Theke</td>\n",
       "      <td>8189E65F-0D1D-4830-9A9A-5EDC54E0DF47</td>\n",
       "      <td>Theke</td>\n",
       "      <td>0003CFB9-B99A-4D1F-ADF8-BA783942A3C1</td>\n",
       "      <td>Partei 1</td>\n",
       "      <td>0</td>\n",
       "      <td>1A181490-FBA6-4DC8-9D80-3C4883FD97EB</td>\n",
       "    </tr>\n",
       "  </tbody>\n",
       "</table>\n",
       "<p>5 rows × 27 columns</p>\n",
       "</div>"
      ],
      "text/plain": [
       "                                     id        date      time  quantity  \\\n",
       "0  689E8A27-629F-43C4-B458-251F245F5A8E  2018-04-22  14:01:47         1   \n",
       "1  05AB42CE-0ED7-423A-A241-C7D0D412B082  2018-04-21  15:21:28         1   \n",
       "2  D889B52F-B5BC-4DBE-BA15-38DF81465708  2018-05-05  16:35:49         1   \n",
       "3  BDA43D01-74EA-48A4-BD5C-C4D6CDDB679C  2018-05-05  16:35:49         1   \n",
       "4  3736E95B-CC65-4B9A-BC0C-ADFFA9D18950  2018-05-05  16:35:49         1   \n",
       "\n",
       "                                item_id               item_name  item_plu  \\\n",
       "0  6742FD21-98EF-4543-AD03-D615DD32741F  Waffle + A WHITE CHOCO         0   \n",
       "1  A1A8AB5A-AE65-4EB6-B52E-71813E7C97DF     C Classic CHOCOLATE         0   \n",
       "2  54710C6E-662B-45FE-8874-1EBD27BC5CBF       A Classic VANILLA         0   \n",
       "3  ED12F302-549B-436D-A19A-A60D74D46F5F     B Classic CHOCOLATE         0   \n",
       "4  F2162A86-15D4-49CC-943E-9071CC7BC786     D Classic RASPBERRY         0   \n",
       "\n",
       "   item_price  expense_item  cancelled  ... device_name device_number  \\\n",
       "0         740             0          0  ...        iPad             1   \n",
       "1         390             0          0  ...        iPad             1   \n",
       "2         440             0          0  ...        iPad             1   \n",
       "3         440             0          0  ...        iPad             1   \n",
       "4         390             0          0  ...        iPad             1   \n",
       "\n",
       "                              device_id table_name  \\\n",
       "0  A7BAF1FB-C744-42BB-9421-9016398B6356      Theke   \n",
       "1  A7BAF1FB-C744-42BB-9421-9016398B6356      Theke   \n",
       "2  A7BAF1FB-C744-42BB-9421-9016398B6356      Theke   \n",
       "3  A7BAF1FB-C744-42BB-9421-9016398B6356      Theke   \n",
       "4  A7BAF1FB-C744-42BB-9421-9016398B6356      Theke   \n",
       "\n",
       "                               table_id tab_name  \\\n",
       "0  8189E65F-0D1D-4830-9A9A-5EDC54E0DF47    Theke   \n",
       "1  8189E65F-0D1D-4830-9A9A-5EDC54E0DF47    Theke   \n",
       "2  8189E65F-0D1D-4830-9A9A-5EDC54E0DF47    Theke   \n",
       "3  8189E65F-0D1D-4830-9A9A-5EDC54E0DF47    Theke   \n",
       "4  8189E65F-0D1D-4830-9A9A-5EDC54E0DF47    Theke   \n",
       "\n",
       "                                 tab_id party_name  party_number  \\\n",
       "0  000008A2-13BE-40B3-A1A6-9C054D4FF5B9   Partei 1             0   \n",
       "1  0002678D-1635-4CCC-B2EF-3536C931EA23   Partei 1             0   \n",
       "2  0003CFB9-B99A-4D1F-ADF8-BA783942A3C1   Partei 1             0   \n",
       "3  0003CFB9-B99A-4D1F-ADF8-BA783942A3C1   Partei 1             0   \n",
       "4  0003CFB9-B99A-4D1F-ADF8-BA783942A3C1   Partei 1             0   \n",
       "\n",
       "                               party_id  \n",
       "0  825E8016-9802-4A69-A25B-3F95C27D1280  \n",
       "1  28D2D25E-E573-476B-8A0D-A15A5C6BBEFC  \n",
       "2  1A181490-FBA6-4DC8-9D80-3C4883FD97EB  \n",
       "3  1A181490-FBA6-4DC8-9D80-3C4883FD97EB  \n",
       "4  1A181490-FBA6-4DC8-9D80-3C4883FD97EB  \n",
       "\n",
       "[5 rows x 27 columns]"
      ]
     },
     "execution_count": 3,
     "metadata": {},
     "output_type": "execute_result"
    }
   ],
   "source": [
    "df_2018.head()"
   ]
  },
  {
   "cell_type": "code",
   "execution_count": 4,
   "metadata": {},
   "outputs": [],
   "source": [
    "#Dropping unnecessary columns, grouping by \"date\", summing \"item_price\" to get daily revenues\n",
    "\n",
    "for i, df in enumerate(df_list):\n",
    "    df_list[i] = pd.DataFrame(df.groupby(by=\"date\")[\"item_price\"].sum()/100)"
   ]
  },
  {
   "cell_type": "code",
   "execution_count": 5,
   "metadata": {},
   "outputs": [
    {
     "data": {
      "text/html": [
       "<div>\n",
       "<style scoped>\n",
       "    .dataframe tbody tr th:only-of-type {\n",
       "        vertical-align: middle;\n",
       "    }\n",
       "\n",
       "    .dataframe tbody tr th {\n",
       "        vertical-align: top;\n",
       "    }\n",
       "\n",
       "    .dataframe thead th {\n",
       "        text-align: right;\n",
       "    }\n",
       "</style>\n",
       "<table border=\"1\" class=\"dataframe\">\n",
       "  <thead>\n",
       "    <tr style=\"text-align: right;\">\n",
       "      <th></th>\n",
       "      <th>ds</th>\n",
       "      <th>y</th>\n",
       "    </tr>\n",
       "  </thead>\n",
       "  <tbody>\n",
       "    <tr>\n",
       "      <th>0</th>\n",
       "      <td>2016-09-01</td>\n",
       "      <td>365.9</td>\n",
       "    </tr>\n",
       "    <tr>\n",
       "      <th>1</th>\n",
       "      <td>2016-09-02</td>\n",
       "      <td>358.6</td>\n",
       "    </tr>\n",
       "    <tr>\n",
       "      <th>2</th>\n",
       "      <td>2016-09-03</td>\n",
       "      <td>487.5</td>\n",
       "    </tr>\n",
       "    <tr>\n",
       "      <th>3</th>\n",
       "      <td>2016-09-04</td>\n",
       "      <td>90.9</td>\n",
       "    </tr>\n",
       "    <tr>\n",
       "      <th>4</th>\n",
       "      <td>2016-09-05</td>\n",
       "      <td>125.0</td>\n",
       "    </tr>\n",
       "    <tr>\n",
       "      <th>...</th>\n",
       "      <td>...</td>\n",
       "      <td>...</td>\n",
       "    </tr>\n",
       "    <tr>\n",
       "      <th>1729</th>\n",
       "      <td>2022-11-18</td>\n",
       "      <td>78.5</td>\n",
       "    </tr>\n",
       "    <tr>\n",
       "      <th>1730</th>\n",
       "      <td>2022-11-19</td>\n",
       "      <td>287.3</td>\n",
       "    </tr>\n",
       "    <tr>\n",
       "      <th>1731</th>\n",
       "      <td>2022-11-20</td>\n",
       "      <td>125.8</td>\n",
       "    </tr>\n",
       "    <tr>\n",
       "      <th>1732</th>\n",
       "      <td>2022-11-21</td>\n",
       "      <td>1.5</td>\n",
       "    </tr>\n",
       "    <tr>\n",
       "      <th>1733</th>\n",
       "      <td>2022-11-22</td>\n",
       "      <td>47.6</td>\n",
       "    </tr>\n",
       "  </tbody>\n",
       "</table>\n",
       "<p>1734 rows × 2 columns</p>\n",
       "</div>"
      ],
      "text/plain": [
       "              ds      y\n",
       "0     2016-09-01  365.9\n",
       "1     2016-09-02  358.6\n",
       "2     2016-09-03  487.5\n",
       "3     2016-09-04   90.9\n",
       "4     2016-09-05  125.0\n",
       "...          ...    ...\n",
       "1729  2022-11-18   78.5\n",
       "1730  2022-11-19  287.3\n",
       "1731  2022-11-20  125.8\n",
       "1732  2022-11-21    1.5\n",
       "1733  2022-11-22   47.6\n",
       "\n",
       "[1734 rows x 2 columns]"
      ]
     },
     "execution_count": 5,
     "metadata": {},
     "output_type": "execute_result"
    }
   ],
   "source": [
    "#Concat all data in one dataframe, rename the columns for prophet\n",
    "\n",
    "df = pd.concat(df_list, ignore_index=False)\n",
    "df = df.rename(columns={\"date\": \"ds\", \"item_price\": \"y\"})\n",
    "df[\"ds\"] = df.index\n",
    "df = df.reset_index(drop=True)\n",
    "df = df[[\"ds\",\"y\"]]\n",
    "df"
   ]
  },
  {
   "cell_type": "code",
   "execution_count": 6,
   "metadata": {},
   "outputs": [
    {
     "data": {
      "text/html": [
       "<div>\n",
       "<style scoped>\n",
       "    .dataframe tbody tr th:only-of-type {\n",
       "        vertical-align: middle;\n",
       "    }\n",
       "\n",
       "    .dataframe tbody tr th {\n",
       "        vertical-align: top;\n",
       "    }\n",
       "\n",
       "    .dataframe thead th {\n",
       "        text-align: right;\n",
       "    }\n",
       "</style>\n",
       "<table border=\"1\" class=\"dataframe\">\n",
       "  <thead>\n",
       "    <tr style=\"text-align: right;\">\n",
       "      <th></th>\n",
       "      <th>y</th>\n",
       "    </tr>\n",
       "  </thead>\n",
       "  <tbody>\n",
       "    <tr>\n",
       "      <th>count</th>\n",
       "      <td>1734.000000</td>\n",
       "    </tr>\n",
       "    <tr>\n",
       "      <th>mean</th>\n",
       "      <td>671.720704</td>\n",
       "    </tr>\n",
       "    <tr>\n",
       "      <th>std</th>\n",
       "      <td>452.051893</td>\n",
       "    </tr>\n",
       "    <tr>\n",
       "      <th>min</th>\n",
       "      <td>1.500000</td>\n",
       "    </tr>\n",
       "    <tr>\n",
       "      <th>25%</th>\n",
       "      <td>329.575000</td>\n",
       "    </tr>\n",
       "    <tr>\n",
       "      <th>50%</th>\n",
       "      <td>573.100000</td>\n",
       "    </tr>\n",
       "    <tr>\n",
       "      <th>75%</th>\n",
       "      <td>927.025000</td>\n",
       "    </tr>\n",
       "    <tr>\n",
       "      <th>max</th>\n",
       "      <td>2832.900000</td>\n",
       "    </tr>\n",
       "  </tbody>\n",
       "</table>\n",
       "</div>"
      ],
      "text/plain": [
       "                 y\n",
       "count  1734.000000\n",
       "mean    671.720704\n",
       "std     452.051893\n",
       "min       1.500000\n",
       "25%     329.575000\n",
       "50%     573.100000\n",
       "75%     927.025000\n",
       "max    2832.900000"
      ]
     },
     "execution_count": 6,
     "metadata": {},
     "output_type": "execute_result"
    }
   ],
   "source": [
    "df.describe()"
   ]
  },
  {
   "cell_type": "code",
   "execution_count": 7,
   "metadata": {},
   "outputs": [
    {
     "data": {
      "text/plain": [
       "<Axes: xlabel='y', ylabel='Count'>"
      ]
     },
     "execution_count": 7,
     "metadata": {},
     "output_type": "execute_result"
    },
    {
     "data": {
      "image/png": "[encoded data removed]",
      "text/plain": [
       "<Figure size 640x480 with 1 Axes>"
      ]
     },
     "metadata": {},
     "output_type": "display_data"
    }
   ],
   "source": [
    "sns.histplot(data=df[\"y\"],kde=True,bins=15)"
   ]
  },
  {
   "cell_type": "code",
   "execution_count": null,
   "metadata": {},
   "outputs": [],
   "source": [
    "#sns.scatterplot(x=df[\"ds\"],y=df[\"y\"])"
   ]
  },
  {
   "cell_type": "markdown",
   "metadata": {},
   "source": [
    "# Feature Processing"
   ]
  },
  {
   "cell_type": "markdown",
   "metadata": {},
   "source": [
    "## Berlin Covid Lockdown Features"
   ]
  },
  {
   "cell_type": "code",
   "execution_count": null,
   "metadata": {},
   "outputs": [],
   "source": [
    "'''March 22, 2020\n",
    " -Full Lockdown\n",
    "April 22,2020\n",
    " -Partial Lockdown\n",
    "May 4, 2020\n",
    "-Lockdown ended\n",
    "October 10, 2020\n",
    " -Partial Lockdown\n",
    "December 16, 2020\n",
    "-Hard lockdown\n",
    "January 10, 2021\n",
    " -Lockdown ended\n",
    "March 31, 2021\n",
    " -Partial Lockdown\n",
    "May 19, 2021\n",
    " -Lockdown ended\n",
    "November 2, 2021\n",
    " -Partial Lockdown\n",
    "December 10, 2021\n",
    " -Lockdown ended'''"
   ]
  },
  {
   "cell_type": "code",
   "execution_count": 8,
   "metadata": {
    "scrolled": true
   },
   "outputs": [
    {
     "data": {
      "text/plain": [
       "dtype('O')"
      ]
     },
     "execution_count": 8,
     "metadata": {},
     "output_type": "execute_result"
    }
   ],
   "source": [
    "#checking original date data type\n",
    "df['ds'].dtype"
   ]
  },
  {
   "cell_type": "code",
   "execution_count": 9,
   "metadata": {},
   "outputs": [],
   "source": [
    "#changing date data type\n",
    "df['ds']=pd.to_datetime(df['ds'])"
   ]
  },
  {
   "cell_type": "code",
   "execution_count": 10,
   "metadata": {},
   "outputs": [
    {
     "data": {
      "text/plain": [
       "dtype('<M8[ns]')"
      ]
     },
     "execution_count": 10,
     "metadata": {},
     "output_type": "execute_result"
    }
   ],
   "source": [
    "#verifying date data type\n",
    "df['ds'].dtype"
   ]
  },
  {
   "cell_type": "code",
   "execution_count": 11,
   "metadata": {},
   "outputs": [
    {
     "data": {
      "text/plain": [
       "Timestamp('2016-09-01 00:00:00')"
      ]
     },
     "execution_count": 11,
     "metadata": {},
     "output_type": "execute_result"
    }
   ],
   "source": [
    "#verifying date data type / format\n",
    "df['ds'][0]"
   ]
  },
  {
   "cell_type": "code",
   "execution_count": 12,
   "metadata": {},
   "outputs": [
    {
     "data": {
      "text/plain": [
       "Timestamp('2020-03-22 00:00:00')"
      ]
     },
     "execution_count": 12,
     "metadata": {},
     "output_type": "execute_result"
    }
   ],
   "source": [
    "#verifying capatiablilty of to_datetime funciton\n",
    "pd.to_datetime('2020-03-22')"
   ]
  },
  {
   "cell_type": "code",
   "execution_count": 13,
   "metadata": {},
   "outputs": [
    {
     "data": {
      "text/html": [
       "<div>\n",
       "<style scoped>\n",
       "    .dataframe tbody tr th:only-of-type {\n",
       "        vertical-align: middle;\n",
       "    }\n",
       "\n",
       "    .dataframe tbody tr th {\n",
       "        vertical-align: top;\n",
       "    }\n",
       "\n",
       "    .dataframe thead th {\n",
       "        text-align: right;\n",
       "    }\n",
       "</style>\n",
       "<table border=\"1\" class=\"dataframe\">\n",
       "  <thead>\n",
       "    <tr style=\"text-align: right;\">\n",
       "      <th></th>\n",
       "      <th>ds</th>\n",
       "      <th>y</th>\n",
       "    </tr>\n",
       "  </thead>\n",
       "  <tbody>\n",
       "    <tr>\n",
       "      <th>973</th>\n",
       "      <td>2020-03-22</td>\n",
       "      <td>467.9</td>\n",
       "    </tr>\n",
       "    <tr>\n",
       "      <th>974</th>\n",
       "      <td>2020-03-23</td>\n",
       "      <td>43.6</td>\n",
       "    </tr>\n",
       "    <tr>\n",
       "      <th>975</th>\n",
       "      <td>2020-03-24</td>\n",
       "      <td>43.6</td>\n",
       "    </tr>\n",
       "    <tr>\n",
       "      <th>976</th>\n",
       "      <td>2020-03-26</td>\n",
       "      <td>198.2</td>\n",
       "    </tr>\n",
       "    <tr>\n",
       "      <th>977</th>\n",
       "      <td>2020-03-27</td>\n",
       "      <td>237.2</td>\n",
       "    </tr>\n",
       "    <tr>\n",
       "      <th>978</th>\n",
       "      <td>2020-03-28</td>\n",
       "      <td>405.6</td>\n",
       "    </tr>\n",
       "    <tr>\n",
       "      <th>979</th>\n",
       "      <td>2020-04-01</td>\n",
       "      <td>158.4</td>\n",
       "    </tr>\n",
       "    <tr>\n",
       "      <th>980</th>\n",
       "      <td>2020-04-02</td>\n",
       "      <td>96.6</td>\n",
       "    </tr>\n",
       "    <tr>\n",
       "      <th>981</th>\n",
       "      <td>2020-04-03</td>\n",
       "      <td>107.9</td>\n",
       "    </tr>\n",
       "    <tr>\n",
       "      <th>982</th>\n",
       "      <td>2020-04-04</td>\n",
       "      <td>618.0</td>\n",
       "    </tr>\n",
       "    <tr>\n",
       "      <th>983</th>\n",
       "      <td>2020-04-05</td>\n",
       "      <td>827.5</td>\n",
       "    </tr>\n",
       "    <tr>\n",
       "      <th>984</th>\n",
       "      <td>2020-04-06</td>\n",
       "      <td>454.8</td>\n",
       "    </tr>\n",
       "    <tr>\n",
       "      <th>985</th>\n",
       "      <td>2020-04-07</td>\n",
       "      <td>416.4</td>\n",
       "    </tr>\n",
       "    <tr>\n",
       "      <th>986</th>\n",
       "      <td>2020-04-08</td>\n",
       "      <td>489.5</td>\n",
       "    </tr>\n",
       "    <tr>\n",
       "      <th>987</th>\n",
       "      <td>2020-04-09</td>\n",
       "      <td>363.3</td>\n",
       "    </tr>\n",
       "    <tr>\n",
       "      <th>988</th>\n",
       "      <td>2020-04-10</td>\n",
       "      <td>816.1</td>\n",
       "    </tr>\n",
       "    <tr>\n",
       "      <th>989</th>\n",
       "      <td>2020-04-11</td>\n",
       "      <td>785.0</td>\n",
       "    </tr>\n",
       "    <tr>\n",
       "      <th>990</th>\n",
       "      <td>2020-04-12</td>\n",
       "      <td>587.8</td>\n",
       "    </tr>\n",
       "    <tr>\n",
       "      <th>991</th>\n",
       "      <td>2020-04-13</td>\n",
       "      <td>144.1</td>\n",
       "    </tr>\n",
       "    <tr>\n",
       "      <th>992</th>\n",
       "      <td>2020-04-14</td>\n",
       "      <td>125.7</td>\n",
       "    </tr>\n",
       "    <tr>\n",
       "      <th>993</th>\n",
       "      <td>2020-04-15</td>\n",
       "      <td>170.1</td>\n",
       "    </tr>\n",
       "    <tr>\n",
       "      <th>994</th>\n",
       "      <td>2020-04-16</td>\n",
       "      <td>317.1</td>\n",
       "    </tr>\n",
       "    <tr>\n",
       "      <th>995</th>\n",
       "      <td>2020-04-17</td>\n",
       "      <td>475.5</td>\n",
       "    </tr>\n",
       "    <tr>\n",
       "      <th>996</th>\n",
       "      <td>2020-04-18</td>\n",
       "      <td>594.0</td>\n",
       "    </tr>\n",
       "    <tr>\n",
       "      <th>997</th>\n",
       "      <td>2020-04-19</td>\n",
       "      <td>603.0</td>\n",
       "    </tr>\n",
       "    <tr>\n",
       "      <th>998</th>\n",
       "      <td>2020-04-20</td>\n",
       "      <td>160.8</td>\n",
       "    </tr>\n",
       "    <tr>\n",
       "      <th>999</th>\n",
       "      <td>2020-04-21</td>\n",
       "      <td>268.4</td>\n",
       "    </tr>\n",
       "  </tbody>\n",
       "</table>\n",
       "</div>"
      ],
      "text/plain": [
       "            ds      y\n",
       "973 2020-03-22  467.9\n",
       "974 2020-03-23   43.6\n",
       "975 2020-03-24   43.6\n",
       "976 2020-03-26  198.2\n",
       "977 2020-03-27  237.2\n",
       "978 2020-03-28  405.6\n",
       "979 2020-04-01  158.4\n",
       "980 2020-04-02   96.6\n",
       "981 2020-04-03  107.9\n",
       "982 2020-04-04  618.0\n",
       "983 2020-04-05  827.5\n",
       "984 2020-04-06  454.8\n",
       "985 2020-04-07  416.4\n",
       "986 2020-04-08  489.5\n",
       "987 2020-04-09  363.3\n",
       "988 2020-04-10  816.1\n",
       "989 2020-04-11  785.0\n",
       "990 2020-04-12  587.8\n",
       "991 2020-04-13  144.1\n",
       "992 2020-04-14  125.7\n",
       "993 2020-04-15  170.1\n",
       "994 2020-04-16  317.1\n",
       "995 2020-04-17  475.5\n",
       "996 2020-04-18  594.0\n",
       "997 2020-04-19  603.0\n",
       "998 2020-04-20  160.8\n",
       "999 2020-04-21  268.4"
      ]
     },
     "execution_count": 13,
     "metadata": {},
     "output_type": "execute_result"
    }
   ],
   "source": [
    "# only first slice appears to work!!\n",
    "Hard = df[((df['ds'] >= pd.to_datetime(\"2020-03-22\")) & (df['ds'] <= pd.to_datetime(\"2020-04-21\"))) | ((df['ds'] >= pd.to_datetime(\"2020-12-16\")) & (df['ds'] <= pd.to_datetime(\"2021-01-09\"))) ]\n",
    "Hard"
   ]
  },
  {
   "cell_type": "code",
   "execution_count": 14,
   "metadata": {},
   "outputs": [
    {
     "data": {
      "text/html": [
       "<div>\n",
       "<style scoped>\n",
       "    .dataframe tbody tr th:only-of-type {\n",
       "        vertical-align: middle;\n",
       "    }\n",
       "\n",
       "    .dataframe tbody tr th {\n",
       "        vertical-align: top;\n",
       "    }\n",
       "\n",
       "    .dataframe thead th {\n",
       "        text-align: right;\n",
       "    }\n",
       "</style>\n",
       "<table border=\"1\" class=\"dataframe\">\n",
       "  <thead>\n",
       "    <tr style=\"text-align: right;\">\n",
       "      <th></th>\n",
       "      <th>ds</th>\n",
       "      <th>y</th>\n",
       "    </tr>\n",
       "  </thead>\n",
       "  <tbody>\n",
       "    <tr>\n",
       "      <th>973</th>\n",
       "      <td>2020-03-22</td>\n",
       "      <td>467.9</td>\n",
       "    </tr>\n",
       "    <tr>\n",
       "      <th>974</th>\n",
       "      <td>2020-03-23</td>\n",
       "      <td>43.6</td>\n",
       "    </tr>\n",
       "    <tr>\n",
       "      <th>975</th>\n",
       "      <td>2020-03-24</td>\n",
       "      <td>43.6</td>\n",
       "    </tr>\n",
       "    <tr>\n",
       "      <th>976</th>\n",
       "      <td>2020-03-26</td>\n",
       "      <td>198.2</td>\n",
       "    </tr>\n",
       "    <tr>\n",
       "      <th>977</th>\n",
       "      <td>2020-03-27</td>\n",
       "      <td>237.2</td>\n",
       "    </tr>\n",
       "    <tr>\n",
       "      <th>978</th>\n",
       "      <td>2020-03-28</td>\n",
       "      <td>405.6</td>\n",
       "    </tr>\n",
       "    <tr>\n",
       "      <th>979</th>\n",
       "      <td>2020-04-01</td>\n",
       "      <td>158.4</td>\n",
       "    </tr>\n",
       "    <tr>\n",
       "      <th>980</th>\n",
       "      <td>2020-04-02</td>\n",
       "      <td>96.6</td>\n",
       "    </tr>\n",
       "    <tr>\n",
       "      <th>981</th>\n",
       "      <td>2020-04-03</td>\n",
       "      <td>107.9</td>\n",
       "    </tr>\n",
       "    <tr>\n",
       "      <th>982</th>\n",
       "      <td>2020-04-04</td>\n",
       "      <td>618.0</td>\n",
       "    </tr>\n",
       "    <tr>\n",
       "      <th>983</th>\n",
       "      <td>2020-04-05</td>\n",
       "      <td>827.5</td>\n",
       "    </tr>\n",
       "    <tr>\n",
       "      <th>984</th>\n",
       "      <td>2020-04-06</td>\n",
       "      <td>454.8</td>\n",
       "    </tr>\n",
       "    <tr>\n",
       "      <th>985</th>\n",
       "      <td>2020-04-07</td>\n",
       "      <td>416.4</td>\n",
       "    </tr>\n",
       "    <tr>\n",
       "      <th>986</th>\n",
       "      <td>2020-04-08</td>\n",
       "      <td>489.5</td>\n",
       "    </tr>\n",
       "    <tr>\n",
       "      <th>987</th>\n",
       "      <td>2020-04-09</td>\n",
       "      <td>363.3</td>\n",
       "    </tr>\n",
       "    <tr>\n",
       "      <th>988</th>\n",
       "      <td>2020-04-10</td>\n",
       "      <td>816.1</td>\n",
       "    </tr>\n",
       "    <tr>\n",
       "      <th>989</th>\n",
       "      <td>2020-04-11</td>\n",
       "      <td>785.0</td>\n",
       "    </tr>\n",
       "    <tr>\n",
       "      <th>990</th>\n",
       "      <td>2020-04-12</td>\n",
       "      <td>587.8</td>\n",
       "    </tr>\n",
       "    <tr>\n",
       "      <th>991</th>\n",
       "      <td>2020-04-13</td>\n",
       "      <td>144.1</td>\n",
       "    </tr>\n",
       "    <tr>\n",
       "      <th>992</th>\n",
       "      <td>2020-04-14</td>\n",
       "      <td>125.7</td>\n",
       "    </tr>\n",
       "    <tr>\n",
       "      <th>993</th>\n",
       "      <td>2020-04-15</td>\n",
       "      <td>170.1</td>\n",
       "    </tr>\n",
       "    <tr>\n",
       "      <th>994</th>\n",
       "      <td>2020-04-16</td>\n",
       "      <td>317.1</td>\n",
       "    </tr>\n",
       "    <tr>\n",
       "      <th>995</th>\n",
       "      <td>2020-04-17</td>\n",
       "      <td>475.5</td>\n",
       "    </tr>\n",
       "    <tr>\n",
       "      <th>996</th>\n",
       "      <td>2020-04-18</td>\n",
       "      <td>594.0</td>\n",
       "    </tr>\n",
       "    <tr>\n",
       "      <th>997</th>\n",
       "      <td>2020-04-19</td>\n",
       "      <td>603.0</td>\n",
       "    </tr>\n",
       "    <tr>\n",
       "      <th>998</th>\n",
       "      <td>2020-04-20</td>\n",
       "      <td>160.8</td>\n",
       "    </tr>\n",
       "    <tr>\n",
       "      <th>999</th>\n",
       "      <td>2020-04-21</td>\n",
       "      <td>268.4</td>\n",
       "    </tr>\n",
       "  </tbody>\n",
       "</table>\n",
       "</div>"
      ],
      "text/plain": [
       "            ds      y\n",
       "973 2020-03-22  467.9\n",
       "974 2020-03-23   43.6\n",
       "975 2020-03-24   43.6\n",
       "976 2020-03-26  198.2\n",
       "977 2020-03-27  237.2\n",
       "978 2020-03-28  405.6\n",
       "979 2020-04-01  158.4\n",
       "980 2020-04-02   96.6\n",
       "981 2020-04-03  107.9\n",
       "982 2020-04-04  618.0\n",
       "983 2020-04-05  827.5\n",
       "984 2020-04-06  454.8\n",
       "985 2020-04-07  416.4\n",
       "986 2020-04-08  489.5\n",
       "987 2020-04-09  363.3\n",
       "988 2020-04-10  816.1\n",
       "989 2020-04-11  785.0\n",
       "990 2020-04-12  587.8\n",
       "991 2020-04-13  144.1\n",
       "992 2020-04-14  125.7\n",
       "993 2020-04-15  170.1\n",
       "994 2020-04-16  317.1\n",
       "995 2020-04-17  475.5\n",
       "996 2020-04-18  594.0\n",
       "997 2020-04-19  603.0\n",
       "998 2020-04-20  160.8\n",
       "999 2020-04-21  268.4"
      ]
     },
     "execution_count": 14,
     "metadata": {},
     "output_type": "execute_result"
    }
   ],
   "source": [
    "#verifying separately\n",
    "Hard_a = df[(df['ds'] >= pd.to_datetime(\"2020-03-22\")) & (df['ds'] <= pd.to_datetime(\"2020-04-21\"))]\n",
    "Hard_a"
   ]
  },
  {
   "cell_type": "code",
   "execution_count": 15,
   "metadata": {
    "scrolled": true
   },
   "outputs": [
    {
     "data": {
      "text/html": [
       "<div>\n",
       "<style scoped>\n",
       "    .dataframe tbody tr th:only-of-type {\n",
       "        vertical-align: middle;\n",
       "    }\n",
       "\n",
       "    .dataframe tbody tr th {\n",
       "        vertical-align: top;\n",
       "    }\n",
       "\n",
       "    .dataframe thead th {\n",
       "        text-align: right;\n",
       "    }\n",
       "</style>\n",
       "<table border=\"1\" class=\"dataframe\">\n",
       "  <thead>\n",
       "    <tr style=\"text-align: right;\">\n",
       "      <th></th>\n",
       "      <th>ds</th>\n",
       "      <th>y</th>\n",
       "    </tr>\n",
       "  </thead>\n",
       "  <tbody>\n",
       "  </tbody>\n",
       "</table>\n",
       "</div>"
      ],
      "text/plain": [
       "Empty DataFrame\n",
       "Columns: [ds, y]\n",
       "Index: []"
      ]
     },
     "execution_count": 15,
     "metadata": {},
     "output_type": "execute_result"
    }
   ],
   "source": [
    "#verifying separately\n",
    "Hard_b = df[(df['ds'] >= pd.to_datetime(\"2020-12-16\")) & (df['ds'] <= pd.to_datetime(\"2021-01-09\"))]\n",
    "Hard_b"
   ]
  },
  {
   "cell_type": "code",
   "execution_count": 16,
   "metadata": {},
   "outputs": [
    {
     "data": {
      "text/plain": [
       "0       False\n",
       "1       False\n",
       "2       False\n",
       "3       False\n",
       "4       False\n",
       "        ...  \n",
       "1729    False\n",
       "1730    False\n",
       "1731    False\n",
       "1732    False\n",
       "1733    False\n",
       "Name: ds, Length: 1734, dtype: bool"
      ]
     },
     "execution_count": 16,
     "metadata": {},
     "output_type": "execute_result"
    }
   ],
   "source": [
    "#checking for True values\n",
    "(df['ds'] >= pd.to_datetime(\"2020-12-16\")) & (df['ds'] <= pd.to_datetime(\"2021-01-09\"))"
   ]
  },
  {
   "cell_type": "code",
   "execution_count": 17,
   "metadata": {},
   "outputs": [
    {
     "data": {
      "text/plain": [
       "False    1734\n",
       "Name: ds, dtype: int64"
      ]
     },
     "execution_count": 17,
     "metadata": {},
     "output_type": "execute_result"
    }
   ],
   "source": [
    "#checking for True values. No data points in original data frame shop closed!\n",
    "((df['ds'] >= pd.to_datetime(\"2020-12-16\")) & (df['ds'] <= pd.to_datetime(\"2021-01-09\"))).value_counts()\n"
   ]
  },
  {
   "cell_type": "code",
   "execution_count": 18,
   "metadata": {},
   "outputs": [
    {
     "data": {
      "text/html": [
       "<div>\n",
       "<style scoped>\n",
       "    .dataframe tbody tr th:only-of-type {\n",
       "        vertical-align: middle;\n",
       "    }\n",
       "\n",
       "    .dataframe tbody tr th {\n",
       "        vertical-align: top;\n",
       "    }\n",
       "\n",
       "    .dataframe thead th {\n",
       "        text-align: right;\n",
       "    }\n",
       "</style>\n",
       "<table border=\"1\" class=\"dataframe\">\n",
       "  <thead>\n",
       "    <tr style=\"text-align: right;\">\n",
       "      <th></th>\n",
       "      <th>ds</th>\n",
       "      <th>y</th>\n",
       "      <th>H/F Cov Lock</th>\n",
       "    </tr>\n",
       "  </thead>\n",
       "  <tbody>\n",
       "    <tr>\n",
       "      <th>0</th>\n",
       "      <td>2016-09-01</td>\n",
       "      <td>365.9</td>\n",
       "      <td>False</td>\n",
       "    </tr>\n",
       "    <tr>\n",
       "      <th>1</th>\n",
       "      <td>2016-09-02</td>\n",
       "      <td>358.6</td>\n",
       "      <td>False</td>\n",
       "    </tr>\n",
       "    <tr>\n",
       "      <th>2</th>\n",
       "      <td>2016-09-03</td>\n",
       "      <td>487.5</td>\n",
       "      <td>False</td>\n",
       "    </tr>\n",
       "    <tr>\n",
       "      <th>3</th>\n",
       "      <td>2016-09-04</td>\n",
       "      <td>90.9</td>\n",
       "      <td>False</td>\n",
       "    </tr>\n",
       "    <tr>\n",
       "      <th>4</th>\n",
       "      <td>2016-09-05</td>\n",
       "      <td>125.0</td>\n",
       "      <td>False</td>\n",
       "    </tr>\n",
       "  </tbody>\n",
       "</table>\n",
       "</div>"
      ],
      "text/plain": [
       "          ds      y  H/F Cov Lock\n",
       "0 2016-09-01  365.9         False\n",
       "1 2016-09-02  358.6         False\n",
       "2 2016-09-03  487.5         False\n",
       "3 2016-09-04   90.9         False\n",
       "4 2016-09-05  125.0         False"
      ]
     },
     "execution_count": 18,
     "metadata": {},
     "output_type": "execute_result"
    }
   ],
   "source": [
    "#adding new column based on originally tried conjoined method\n",
    "df['H/F Cov Lock'] = ((df['ds'] >= pd.to_datetime(\"2020-03-22\")) & (df['ds'] <= pd.to_datetime(\"2020-04-21\"))) | ((df['ds'] >= pd.to_datetime(\"2020-12-16\")) & (df['ds'] <= pd.to_datetime(\"2021-01-09\")))\n",
    "df.head()"
   ]
  },
  {
   "cell_type": "code",
   "execution_count": 19,
   "metadata": {},
   "outputs": [
    {
     "data": {
      "text/plain": [
       "False    1707\n",
       "True       27\n",
       "Name: H/F Cov Lock, dtype: int64"
      ]
     },
     "execution_count": 19,
     "metadata": {},
     "output_type": "execute_result"
    }
   ],
   "source": [
    "#verifying true counts\n",
    "df[\"H/F Cov Lock\"].value_counts()"
   ]
  },
  {
   "cell_type": "code",
   "execution_count": 20,
   "metadata": {},
   "outputs": [
    {
     "data": {
      "text/plain": [
       "0    1707\n",
       "1      27\n",
       "Name: H/F Cov Lock, dtype: int64"
      ]
     },
     "execution_count": 20,
     "metadata": {},
     "output_type": "execute_result"
    }
   ],
   "source": [
    "#verifying transformation of True to 1 values\n",
    "df['H/F Cov Lock'] = df['H/F Cov Lock'].astype(int)\n",
    "df[\"H/F Cov Lock\"].value_counts()"
   ]
  },
  {
   "cell_type": "code",
   "execution_count": 21,
   "metadata": {},
   "outputs": [
    {
     "data": {
      "text/plain": [
       "False    1622\n",
       "True      112\n",
       "Name: Part Cov Lock, dtype: int64"
      ]
     },
     "execution_count": 21,
     "metadata": {},
     "output_type": "execute_result"
    }
   ],
   "source": [
    "#Same method used to identify Partial Lockdown dates and create them as a new column\n",
    "df['Part Cov Lock'] = ((df['ds'] >= pd.to_datetime(\"2020-04-22\")) & (df['ds'] <= pd.to_datetime(\"2020-05-03\"))) | ((df['ds'] >= pd.to_datetime(\"2020-10-10\")) & (df['ds'] <= pd.to_datetime(\"2020-12-15\"))) | ((df['ds'] >= pd.to_datetime(\"2021-03-31\")) & (df['ds'] <= pd.to_datetime(\"2021-05-18\"))) | ((df['ds'] >= pd.to_datetime(\"2021-11-02\")) & (df['ds'] <= pd.to_datetime(\"2021-12-09\")))\n",
    "df['Part Cov Lock'].value_counts()"
   ]
  },
  {
   "cell_type": "code",
   "execution_count": 22,
   "metadata": {},
   "outputs": [
    {
     "data": {
      "text/plain": [
       "0    1622\n",
       "1     112\n",
       "Name: Part Cov Lock, dtype: int64"
      ]
     },
     "execution_count": 22,
     "metadata": {},
     "output_type": "execute_result"
    }
   ],
   "source": [
    "#transforming True to 1\n",
    "df['Part Cov Lock'] = df['Part Cov Lock'].astype(int)\n",
    "df['Part Cov Lock'].value_counts()"
   ]
  },
  {
   "cell_type": "code",
   "execution_count": 23,
   "metadata": {
    "scrolled": true
   },
   "outputs": [
    {
     "data": {
      "text/html": [
       "<div>\n",
       "<style scoped>\n",
       "    .dataframe tbody tr th:only-of-type {\n",
       "        vertical-align: middle;\n",
       "    }\n",
       "\n",
       "    .dataframe tbody tr th {\n",
       "        vertical-align: top;\n",
       "    }\n",
       "\n",
       "    .dataframe thead th {\n",
       "        text-align: right;\n",
       "    }\n",
       "</style>\n",
       "<table border=\"1\" class=\"dataframe\">\n",
       "  <thead>\n",
       "    <tr style=\"text-align: right;\">\n",
       "      <th></th>\n",
       "      <th>ds</th>\n",
       "      <th>y</th>\n",
       "      <th>H/F Cov Lock</th>\n",
       "      <th>Part Cov Lock</th>\n",
       "    </tr>\n",
       "  </thead>\n",
       "  <tbody>\n",
       "    <tr>\n",
       "      <th>0</th>\n",
       "      <td>2016-09-01</td>\n",
       "      <td>365.9</td>\n",
       "      <td>0</td>\n",
       "      <td>0</td>\n",
       "    </tr>\n",
       "    <tr>\n",
       "      <th>1</th>\n",
       "      <td>2016-09-02</td>\n",
       "      <td>358.6</td>\n",
       "      <td>0</td>\n",
       "      <td>0</td>\n",
       "    </tr>\n",
       "    <tr>\n",
       "      <th>2</th>\n",
       "      <td>2016-09-03</td>\n",
       "      <td>487.5</td>\n",
       "      <td>0</td>\n",
       "      <td>0</td>\n",
       "    </tr>\n",
       "    <tr>\n",
       "      <th>3</th>\n",
       "      <td>2016-09-04</td>\n",
       "      <td>90.9</td>\n",
       "      <td>0</td>\n",
       "      <td>0</td>\n",
       "    </tr>\n",
       "    <tr>\n",
       "      <th>4</th>\n",
       "      <td>2016-09-05</td>\n",
       "      <td>125.0</td>\n",
       "      <td>0</td>\n",
       "      <td>0</td>\n",
       "    </tr>\n",
       "  </tbody>\n",
       "</table>\n",
       "</div>"
      ],
      "text/plain": [
       "          ds      y  H/F Cov Lock  Part Cov Lock\n",
       "0 2016-09-01  365.9             0              0\n",
       "1 2016-09-02  358.6             0              0\n",
       "2 2016-09-03  487.5             0              0\n",
       "3 2016-09-04   90.9             0              0\n",
       "4 2016-09-05  125.0             0              0"
      ]
     },
     "execution_count": 23,
     "metadata": {},
     "output_type": "execute_result"
    }
   ],
   "source": [
    "#df check\n",
    "df.head()"
   ]
  },
  {
   "cell_type": "code",
   "execution_count": 24,
   "metadata": {},
   "outputs": [
    {
     "data": {
      "text/plain": [
       "0    1595\n",
       "1     139\n",
       "Name: cov_lock, dtype: int64"
      ]
     },
     "execution_count": 24,
     "metadata": {},
     "output_type": "execute_result"
    }
   ],
   "source": [
    "#covid lockdown regulations in Berlin as a joint feature - regardless of severity\n",
    "df['cov_lock'] = ((df['ds'] >= pd.to_datetime(\"2020-03-22\")) & (df['ds'] <= pd.to_datetime(\"2020-04-21\"))) | ((df['ds'] >= pd.to_datetime(\"2020-12-16\")) & (df['ds'] <= pd.to_datetime(\"2021-01-09\"))) | ((df['ds'] >= pd.to_datetime(\"2020-04-22\")) & (df['ds'] <= pd.to_datetime(\"2020-05-03\"))) | ((df['ds'] >= pd.to_datetime(\"2020-10-10\")) & (df['ds'] <= pd.to_datetime(\"2020-12-15\"))) | ((df['ds'] >= pd.to_datetime(\"2021-03-31\")) & (df['ds'] <= pd.to_datetime(\"2021-05-18\"))) | ((df['ds'] >= pd.to_datetime(\"2021-11-02\")) & (df['ds'] <= pd.to_datetime(\"2021-12-09\")))\n",
    "df['cov_lock'] = df['cov_lock'].astype(int)\n",
    "df['cov_lock'].value_counts()"
   ]
  },
  {
   "cell_type": "code",
   "execution_count": 25,
   "metadata": {},
   "outputs": [
    {
     "data": {
      "text/html": [
       "<div>\n",
       "<style scoped>\n",
       "    .dataframe tbody tr th:only-of-type {\n",
       "        vertical-align: middle;\n",
       "    }\n",
       "\n",
       "    .dataframe tbody tr th {\n",
       "        vertical-align: top;\n",
       "    }\n",
       "\n",
       "    .dataframe thead th {\n",
       "        text-align: right;\n",
       "    }\n",
       "</style>\n",
       "<table border=\"1\" class=\"dataframe\">\n",
       "  <thead>\n",
       "    <tr style=\"text-align: right;\">\n",
       "      <th></th>\n",
       "      <th>ds</th>\n",
       "      <th>y</th>\n",
       "      <th>H/F Cov Lock</th>\n",
       "      <th>Part Cov Lock</th>\n",
       "      <th>cov_lock</th>\n",
       "    </tr>\n",
       "  </thead>\n",
       "  <tbody>\n",
       "    <tr>\n",
       "      <th>0</th>\n",
       "      <td>2016-09-01</td>\n",
       "      <td>365.9</td>\n",
       "      <td>0</td>\n",
       "      <td>0</td>\n",
       "      <td>0</td>\n",
       "    </tr>\n",
       "    <tr>\n",
       "      <th>1</th>\n",
       "      <td>2016-09-02</td>\n",
       "      <td>358.6</td>\n",
       "      <td>0</td>\n",
       "      <td>0</td>\n",
       "      <td>0</td>\n",
       "    </tr>\n",
       "    <tr>\n",
       "      <th>2</th>\n",
       "      <td>2016-09-03</td>\n",
       "      <td>487.5</td>\n",
       "      <td>0</td>\n",
       "      <td>0</td>\n",
       "      <td>0</td>\n",
       "    </tr>\n",
       "    <tr>\n",
       "      <th>3</th>\n",
       "      <td>2016-09-04</td>\n",
       "      <td>90.9</td>\n",
       "      <td>0</td>\n",
       "      <td>0</td>\n",
       "      <td>0</td>\n",
       "    </tr>\n",
       "    <tr>\n",
       "      <th>4</th>\n",
       "      <td>2016-09-05</td>\n",
       "      <td>125.0</td>\n",
       "      <td>0</td>\n",
       "      <td>0</td>\n",
       "      <td>0</td>\n",
       "    </tr>\n",
       "  </tbody>\n",
       "</table>\n",
       "</div>"
      ],
      "text/plain": [
       "          ds      y  H/F Cov Lock  Part Cov Lock  cov_lock\n",
       "0 2016-09-01  365.9             0              0         0\n",
       "1 2016-09-02  358.6             0              0         0\n",
       "2 2016-09-03  487.5             0              0         0\n",
       "3 2016-09-04   90.9             0              0         0\n",
       "4 2016-09-05  125.0             0              0         0"
      ]
     },
     "execution_count": 25,
     "metadata": {},
     "output_type": "execute_result"
    }
   ],
   "source": [
    "#df check\n",
    "df.head()"
   ]
  },
  {
   "cell_type": "markdown",
   "metadata": {},
   "source": [
    "## Berlin Mitte and Mitte Mittem Unemployment rates"
   ]
  },
  {
   "cell_type": "code",
   "execution_count": 26,
   "metadata": {},
   "outputs": [
    {
     "name": "stdout",
     "output_type": "stream",
     "text": [
      "<class 'pandas.core.frame.DataFrame'>\n",
      "RangeIndex: 84 entries, 0 to 83\n",
      "Data columns (total 3 columns):\n",
      " #   Column                    Non-Null Count  Dtype \n",
      "---  ------                    --------------  ----- \n",
      " 0   Date                      84 non-null     object\n",
      " 1   unemp_Berlin_Mitte        84 non-null     object\n",
      " 2   unemp_Berlin_Mitte_Mitte  84 non-null     object\n",
      "dtypes: object(3)\n",
      "memory usage: 2.1+ KB\n"
     ]
    }
   ],
   "source": [
    "#download Berlin unemployment cv\n",
    "df_unemp_ber= pd.read_csv(\"raw_data/BerlinUnemployment2016-2022.csv\", sep=\";\")\n",
    "df_unemp_ber.info()"
   ]
  },
  {
   "cell_type": "code",
   "execution_count": 27,
   "metadata": {
    "scrolled": false
   },
   "outputs": [
    {
     "name": "stdout",
     "output_type": "stream",
     "text": [
      "<class 'pandas.core.frame.DataFrame'>\n",
      "RangeIndex: 84 entries, 0 to 83\n",
      "Data columns (total 3 columns):\n",
      " #   Column                    Non-Null Count  Dtype         \n",
      "---  ------                    --------------  -----         \n",
      " 0   Date                      84 non-null     datetime64[ns]\n",
      " 1   unemp_Berlin_Mitte        84 non-null     object        \n",
      " 2   unemp_Berlin_Mitte_Mitte  84 non-null     object        \n",
      "dtypes: datetime64[ns](1), object(2)\n",
      "memory usage: 2.1+ KB\n"
     ]
    }
   ],
   "source": [
    "#change date to datetime data type\n",
    "df_unemp_ber['Date'] = pd.to_datetime(df_unemp_ber['Date'], format='%d/%m/%Y')\n",
    "df_unemp_ber.info()"
   ]
  },
  {
   "cell_type": "code",
   "execution_count": 28,
   "metadata": {},
   "outputs": [
    {
     "data": {
      "text/html": [
       "<div>\n",
       "<style scoped>\n",
       "    .dataframe tbody tr th:only-of-type {\n",
       "        vertical-align: middle;\n",
       "    }\n",
       "\n",
       "    .dataframe tbody tr th {\n",
       "        vertical-align: top;\n",
       "    }\n",
       "\n",
       "    .dataframe thead th {\n",
       "        text-align: right;\n",
       "    }\n",
       "</style>\n",
       "<table border=\"1\" class=\"dataframe\">\n",
       "  <thead>\n",
       "    <tr style=\"text-align: right;\">\n",
       "      <th></th>\n",
       "      <th>Date</th>\n",
       "      <th>unemp_Berlin_Mitte</th>\n",
       "      <th>unemp_Berlin_Mitte_Mitte</th>\n",
       "    </tr>\n",
       "  </thead>\n",
       "  <tbody>\n",
       "    <tr>\n",
       "      <th>0</th>\n",
       "      <td>2016-01-31</td>\n",
       "      <td>10.8</td>\n",
       "      <td>12</td>\n",
       "    </tr>\n",
       "    <tr>\n",
       "      <th>1</th>\n",
       "      <td>2016-02-29</td>\n",
       "      <td>10.7</td>\n",
       "      <td>11.7</td>\n",
       "    </tr>\n",
       "    <tr>\n",
       "      <th>2</th>\n",
       "      <td>2016-03-31</td>\n",
       "      <td>11.4</td>\n",
       "      <td>11.4</td>\n",
       "    </tr>\n",
       "    <tr>\n",
       "      <th>3</th>\n",
       "      <td>2016-04-30</td>\n",
       "      <td>10.1</td>\n",
       "      <td>11.1</td>\n",
       "    </tr>\n",
       "    <tr>\n",
       "      <th>4</th>\n",
       "      <td>2016-05-31</td>\n",
       "      <td>9.5</td>\n",
       "      <td>10.3</td>\n",
       "    </tr>\n",
       "  </tbody>\n",
       "</table>\n",
       "</div>"
      ],
      "text/plain": [
       "        Date unemp_Berlin_Mitte unemp_Berlin_Mitte_Mitte\n",
       "0 2016-01-31               10.8                       12\n",
       "1 2016-02-29               10.7                     11.7\n",
       "2 2016-03-31               11.4                     11.4\n",
       "3 2016-04-30               10.1                     11.1\n",
       "4 2016-05-31                9.5                     10.3"
      ]
     },
     "execution_count": 28,
     "metadata": {},
     "output_type": "execute_result"
    }
   ],
   "source": [
    "#replace \",\" with \".\" in object columns\n",
    "df_unemp_ber[['unemp_Berlin_Mitte', 'unemp_Berlin_Mitte_Mitte']] = df_unemp_ber[['unemp_Berlin_Mitte', 'unemp_Berlin_Mitte_Mitte']].apply(lambda x: x.str.replace(',', '.'))\n",
    "df_unemp_ber.head()"
   ]
  },
  {
   "cell_type": "code",
   "execution_count": 29,
   "metadata": {
    "scrolled": true
   },
   "outputs": [
    {
     "name": "stdout",
     "output_type": "stream",
     "text": [
      "<class 'pandas.core.frame.DataFrame'>\n",
      "RangeIndex: 84 entries, 0 to 83\n",
      "Data columns (total 3 columns):\n",
      " #   Column                    Non-Null Count  Dtype         \n",
      "---  ------                    --------------  -----         \n",
      " 0   Date                      84 non-null     datetime64[ns]\n",
      " 1   unemp_Berlin_Mitte        84 non-null     float64       \n",
      " 2   unemp_Berlin_Mitte_Mitte  84 non-null     float64       \n",
      "dtypes: datetime64[ns](1), float64(2)\n",
      "memory usage: 2.1 KB\n"
     ]
    }
   ],
   "source": [
    "#changed objects to floats\n",
    "df_unemp_ber = df_unemp_ber.astype({\"unemp_Berlin_Mitte\": float, \"unemp_Berlin_Mitte_Mitte\": float})\n",
    "df_unemp_ber.info()"
   ]
  },
  {
   "cell_type": "code",
   "execution_count": 30,
   "metadata": {
    "scrolled": false
   },
   "outputs": [
    {
     "data": {
      "text/html": [
       "<div>\n",
       "<style scoped>\n",
       "    .dataframe tbody tr th:only-of-type {\n",
       "        vertical-align: middle;\n",
       "    }\n",
       "\n",
       "    .dataframe tbody tr th {\n",
       "        vertical-align: top;\n",
       "    }\n",
       "\n",
       "    .dataframe thead th {\n",
       "        text-align: right;\n",
       "    }\n",
       "</style>\n",
       "<table border=\"1\" class=\"dataframe\">\n",
       "  <thead>\n",
       "    <tr style=\"text-align: right;\">\n",
       "      <th></th>\n",
       "      <th>Date</th>\n",
       "      <th>unemp_Berlin_Mitte</th>\n",
       "      <th>unemp_Berlin_Mitte_Mitte</th>\n",
       "    </tr>\n",
       "  </thead>\n",
       "  <tbody>\n",
       "    <tr>\n",
       "      <th>0</th>\n",
       "      <td>2016-01-31</td>\n",
       "      <td>0.108</td>\n",
       "      <td>0.120</td>\n",
       "    </tr>\n",
       "    <tr>\n",
       "      <th>1</th>\n",
       "      <td>2016-02-29</td>\n",
       "      <td>0.107</td>\n",
       "      <td>0.117</td>\n",
       "    </tr>\n",
       "    <tr>\n",
       "      <th>2</th>\n",
       "      <td>2016-03-31</td>\n",
       "      <td>0.114</td>\n",
       "      <td>0.114</td>\n",
       "    </tr>\n",
       "    <tr>\n",
       "      <th>3</th>\n",
       "      <td>2016-04-30</td>\n",
       "      <td>0.101</td>\n",
       "      <td>0.111</td>\n",
       "    </tr>\n",
       "    <tr>\n",
       "      <th>4</th>\n",
       "      <td>2016-05-31</td>\n",
       "      <td>0.095</td>\n",
       "      <td>0.103</td>\n",
       "    </tr>\n",
       "  </tbody>\n",
       "</table>\n",
       "</div>"
      ],
      "text/plain": [
       "        Date  unemp_Berlin_Mitte  unemp_Berlin_Mitte_Mitte\n",
       "0 2016-01-31               0.108                     0.120\n",
       "1 2016-02-29               0.107                     0.117\n",
       "2 2016-03-31               0.114                     0.114\n",
       "3 2016-04-30               0.101                     0.111\n",
       "4 2016-05-31               0.095                     0.103"
      ]
     },
     "execution_count": 30,
     "metadata": {},
     "output_type": "execute_result"
    }
   ],
   "source": [
    "# turning percentage into decimal form\n",
    "df_unemp_ber[['unemp_Berlin_Mitte', 'unemp_Berlin_Mitte_Mitte']] = df_unemp_ber[['unemp_Berlin_Mitte', 'unemp_Berlin_Mitte_Mitte']]/100 \n",
    "df_unemp_ber.head()"
   ]
  },
  {
   "cell_type": "code",
   "execution_count": 31,
   "metadata": {},
   "outputs": [
    {
     "data": {
      "text/html": [
       "<div>\n",
       "<style scoped>\n",
       "    .dataframe tbody tr th:only-of-type {\n",
       "        vertical-align: middle;\n",
       "    }\n",
       "\n",
       "    .dataframe tbody tr th {\n",
       "        vertical-align: top;\n",
       "    }\n",
       "\n",
       "    .dataframe thead th {\n",
       "        text-align: right;\n",
       "    }\n",
       "</style>\n",
       "<table border=\"1\" class=\"dataframe\">\n",
       "  <thead>\n",
       "    <tr style=\"text-align: right;\">\n",
       "      <th></th>\n",
       "      <th>unemp_Berlin_Mitte</th>\n",
       "      <th>unemp_Berlin_Mitte_Mitte</th>\n",
       "    </tr>\n",
       "    <tr>\n",
       "      <th>Date</th>\n",
       "      <th></th>\n",
       "      <th></th>\n",
       "    </tr>\n",
       "  </thead>\n",
       "  <tbody>\n",
       "    <tr>\n",
       "      <th>2016-01-31</th>\n",
       "      <td>0.108</td>\n",
       "      <td>0.120</td>\n",
       "    </tr>\n",
       "    <tr>\n",
       "      <th>2016-02-29</th>\n",
       "      <td>0.107</td>\n",
       "      <td>0.117</td>\n",
       "    </tr>\n",
       "    <tr>\n",
       "      <th>2016-03-31</th>\n",
       "      <td>0.114</td>\n",
       "      <td>0.114</td>\n",
       "    </tr>\n",
       "    <tr>\n",
       "      <th>2016-04-30</th>\n",
       "      <td>0.101</td>\n",
       "      <td>0.111</td>\n",
       "    </tr>\n",
       "    <tr>\n",
       "      <th>2016-05-31</th>\n",
       "      <td>0.095</td>\n",
       "      <td>0.103</td>\n",
       "    </tr>\n",
       "  </tbody>\n",
       "</table>\n",
       "</div>"
      ],
      "text/plain": [
       "            unemp_Berlin_Mitte  unemp_Berlin_Mitte_Mitte\n",
       "Date                                                    \n",
       "2016-01-31               0.108                     0.120\n",
       "2016-02-29               0.107                     0.117\n",
       "2016-03-31               0.114                     0.114\n",
       "2016-04-30               0.101                     0.111\n",
       "2016-05-31               0.095                     0.103"
      ]
     },
     "execution_count": 31,
     "metadata": {},
     "output_type": "execute_result"
    }
   ],
   "source": [
    "#prepping for day value fill\n",
    "df_unemp_ber.set_index('Date', inplace=True)\n",
    "df_unemp_ber.head()"
   ]
  },
  {
   "cell_type": "code",
   "execution_count": 32,
   "metadata": {
    "scrolled": true
   },
   "outputs": [
    {
     "data": {
      "text/html": [
       "<div>\n",
       "<style scoped>\n",
       "    .dataframe tbody tr th:only-of-type {\n",
       "        vertical-align: middle;\n",
       "    }\n",
       "\n",
       "    .dataframe tbody tr th {\n",
       "        vertical-align: top;\n",
       "    }\n",
       "\n",
       "    .dataframe thead th {\n",
       "        text-align: right;\n",
       "    }\n",
       "</style>\n",
       "<table border=\"1\" class=\"dataframe\">\n",
       "  <thead>\n",
       "    <tr style=\"text-align: right;\">\n",
       "      <th></th>\n",
       "      <th>unemp_Berlin_Mitte</th>\n",
       "      <th>unemp_Berlin_Mitte_Mitte</th>\n",
       "    </tr>\n",
       "    <tr>\n",
       "      <th>Date</th>\n",
       "      <th></th>\n",
       "      <th></th>\n",
       "    </tr>\n",
       "  </thead>\n",
       "  <tbody>\n",
       "    <tr>\n",
       "      <th>2016-01-31</th>\n",
       "      <td>0.108</td>\n",
       "      <td>0.120</td>\n",
       "    </tr>\n",
       "    <tr>\n",
       "      <th>2016-02-01</th>\n",
       "      <td>0.108</td>\n",
       "      <td>0.120</td>\n",
       "    </tr>\n",
       "    <tr>\n",
       "      <th>2016-02-02</th>\n",
       "      <td>0.108</td>\n",
       "      <td>0.120</td>\n",
       "    </tr>\n",
       "    <tr>\n",
       "      <th>2016-02-03</th>\n",
       "      <td>0.108</td>\n",
       "      <td>0.120</td>\n",
       "    </tr>\n",
       "    <tr>\n",
       "      <th>2016-02-04</th>\n",
       "      <td>0.108</td>\n",
       "      <td>0.120</td>\n",
       "    </tr>\n",
       "    <tr>\n",
       "      <th>...</th>\n",
       "      <td>...</td>\n",
       "      <td>...</td>\n",
       "    </tr>\n",
       "    <tr>\n",
       "      <th>2022-11-27</th>\n",
       "      <td>0.089</td>\n",
       "      <td>0.087</td>\n",
       "    </tr>\n",
       "    <tr>\n",
       "      <th>2022-11-28</th>\n",
       "      <td>0.089</td>\n",
       "      <td>0.087</td>\n",
       "    </tr>\n",
       "    <tr>\n",
       "      <th>2022-11-29</th>\n",
       "      <td>0.089</td>\n",
       "      <td>0.087</td>\n",
       "    </tr>\n",
       "    <tr>\n",
       "      <th>2022-11-30</th>\n",
       "      <td>0.087</td>\n",
       "      <td>0.086</td>\n",
       "    </tr>\n",
       "    <tr>\n",
       "      <th>2022-12-01</th>\n",
       "      <td>0.087</td>\n",
       "      <td>0.087</td>\n",
       "    </tr>\n",
       "  </tbody>\n",
       "</table>\n",
       "<p>2497 rows × 2 columns</p>\n",
       "</div>"
      ],
      "text/plain": [
       "            unemp_Berlin_Mitte  unemp_Berlin_Mitte_Mitte\n",
       "Date                                                    \n",
       "2016-01-31               0.108                     0.120\n",
       "2016-02-01               0.108                     0.120\n",
       "2016-02-02               0.108                     0.120\n",
       "2016-02-03               0.108                     0.120\n",
       "2016-02-04               0.108                     0.120\n",
       "...                        ...                       ...\n",
       "2022-11-27               0.089                     0.087\n",
       "2022-11-28               0.089                     0.087\n",
       "2022-11-29               0.089                     0.087\n",
       "2022-11-30               0.087                     0.086\n",
       "2022-12-01               0.087                     0.087\n",
       "\n",
       "[2497 rows x 2 columns]"
      ]
     },
     "execution_count": 32,
     "metadata": {},
     "output_type": "execute_result"
    }
   ],
   "source": [
    "#forward fill of days\n",
    "df_unemp_ber = df_unemp_ber.resample('D').ffill()\n",
    "df_unemp_ber"
   ]
  },
  {
   "cell_type": "code",
   "execution_count": 33,
   "metadata": {
    "scrolled": false
   },
   "outputs": [
    {
     "data": {
      "text/html": [
       "<div>\n",
       "<style scoped>\n",
       "    .dataframe tbody tr th:only-of-type {\n",
       "        vertical-align: middle;\n",
       "    }\n",
       "\n",
       "    .dataframe tbody tr th {\n",
       "        vertical-align: top;\n",
       "    }\n",
       "\n",
       "    .dataframe thead th {\n",
       "        text-align: right;\n",
       "    }\n",
       "</style>\n",
       "<table border=\"1\" class=\"dataframe\">\n",
       "  <thead>\n",
       "    <tr style=\"text-align: right;\">\n",
       "      <th></th>\n",
       "      <th>ds</th>\n",
       "      <th>y</th>\n",
       "      <th>H/F Cov Lock</th>\n",
       "      <th>Part Cov Lock</th>\n",
       "      <th>cov_lock</th>\n",
       "      <th>unemp_Berlin_Mitte</th>\n",
       "      <th>unemp_Berlin_Mitte_Mitte</th>\n",
       "    </tr>\n",
       "  </thead>\n",
       "  <tbody>\n",
       "    <tr>\n",
       "      <th>0</th>\n",
       "      <td>2016-09-01</td>\n",
       "      <td>365.9</td>\n",
       "      <td>0</td>\n",
       "      <td>0</td>\n",
       "      <td>0</td>\n",
       "      <td>0.095</td>\n",
       "      <td>0.103</td>\n",
       "    </tr>\n",
       "    <tr>\n",
       "      <th>1</th>\n",
       "      <td>2016-09-02</td>\n",
       "      <td>358.6</td>\n",
       "      <td>0</td>\n",
       "      <td>0</td>\n",
       "      <td>0</td>\n",
       "      <td>0.095</td>\n",
       "      <td>0.103</td>\n",
       "    </tr>\n",
       "    <tr>\n",
       "      <th>2</th>\n",
       "      <td>2016-09-03</td>\n",
       "      <td>487.5</td>\n",
       "      <td>0</td>\n",
       "      <td>0</td>\n",
       "      <td>0</td>\n",
       "      <td>0.095</td>\n",
       "      <td>0.103</td>\n",
       "    </tr>\n",
       "    <tr>\n",
       "      <th>3</th>\n",
       "      <td>2016-09-04</td>\n",
       "      <td>90.9</td>\n",
       "      <td>0</td>\n",
       "      <td>0</td>\n",
       "      <td>0</td>\n",
       "      <td>0.095</td>\n",
       "      <td>0.103</td>\n",
       "    </tr>\n",
       "    <tr>\n",
       "      <th>4</th>\n",
       "      <td>2016-09-05</td>\n",
       "      <td>125.0</td>\n",
       "      <td>0</td>\n",
       "      <td>0</td>\n",
       "      <td>0</td>\n",
       "      <td>0.095</td>\n",
       "      <td>0.103</td>\n",
       "    </tr>\n",
       "  </tbody>\n",
       "</table>\n",
       "</div>"
      ],
      "text/plain": [
       "          ds      y  H/F Cov Lock  Part Cov Lock  cov_lock  \\\n",
       "0 2016-09-01  365.9             0              0         0   \n",
       "1 2016-09-02  358.6             0              0         0   \n",
       "2 2016-09-03  487.5             0              0         0   \n",
       "3 2016-09-04   90.9             0              0         0   \n",
       "4 2016-09-05  125.0             0              0         0   \n",
       "\n",
       "   unemp_Berlin_Mitte  unemp_Berlin_Mitte_Mitte  \n",
       "0               0.095                     0.103  \n",
       "1               0.095                     0.103  \n",
       "2               0.095                     0.103  \n",
       "3               0.095                     0.103  \n",
       "4               0.095                     0.103  "
      ]
     },
     "execution_count": 33,
     "metadata": {},
     "output_type": "execute_result"
    }
   ],
   "source": [
    "#merged datafames\n",
    "merged_df = pd.merge(df, df_unemp_ber, how='left', left_on='ds', right_on='Date')\n",
    "merged_df.head()"
   ]
  },
  {
   "cell_type": "markdown",
   "metadata": {},
   "source": [
    "## Foottraffic Data"
   ]
  },
  {
   "cell_type": "markdown",
   "metadata": {},
   "source": [
    "Originally only available 2021-2023"
   ]
  },
  {
   "cell_type": "code",
   "execution_count": null,
   "metadata": {},
   "outputs": [],
   "source": [
    "#loading data\n",
    "foottraffic_2021 = pd.read_csv(\"raw_data/foottraffic2021.csv\", sep=\";\")\n",
    "foottraffic_2022 = pd.read_csv(\"raw_data/foottraffic2022.csv\", sep=\";\")\n",
    "foottraffic_2023 = pd.read_csv(\"raw_data/foottraffic2023.csv\", sep=\";\")\n",
    "\n",
    "foottraffic_list = [foottraffic_2021, foottraffic_2022, foottraffic_2023]"
   ]
  },
  {
   "cell_type": "code",
   "execution_count": null,
   "metadata": {},
   "outputs": [],
   "source": [
    "foottraffic_2021.head()"
   ]
  },
  {
   "cell_type": "code",
   "execution_count": null,
   "metadata": {
    "scrolled": true
   },
   "outputs": [],
   "source": [
    "#Concat all data in one dataframe, rename the columns for prophet\n",
    "\n",
    "foottraffic_df = pd.concat(foottraffic_list, ignore_index=False)\n",
    "foottraffic_df = foottraffic_df.rename(columns={\"time of measurement\": \"ds\", \"pedestrians count\": \"pedestrians\"})\n",
    "foottraffic_df = foottraffic_df[[\"ds\",\"pedestrians\"]]\n",
    "foottraffic_df"
   ]
  },
  {
   "cell_type": "code",
   "execution_count": null,
   "metadata": {
    "scrolled": true
   },
   "outputs": [],
   "source": [
    "foottraffic_df.info()"
   ]
  },
  {
   "cell_type": "code",
   "execution_count": null,
   "metadata": {},
   "outputs": [],
   "source": [
    "#transform to datetime format part 1\n",
    "foottraffic_df['ds'] = pd.to_datetime(foottraffic_df['ds'], utc=True)"
   ]
  },
  {
   "cell_type": "code",
   "execution_count": null,
   "metadata": {},
   "outputs": [],
   "source": [
    "foottraffic_df.info()"
   ]
  },
  {
   "cell_type": "code",
   "execution_count": null,
   "metadata": {
    "scrolled": false
   },
   "outputs": [],
   "source": [
    "#transform to datetime format part 2\n",
    "foottraffic_df['ds'] = foottraffic_df['ds'].dt.date\n",
    "foottraffic_df.info()"
   ]
  },
  {
   "cell_type": "code",
   "execution_count": null,
   "metadata": {},
   "outputs": [],
   "source": [
    "#transform to datetime format part 3\n",
    "foottraffic_df['ds'] = pd.to_datetime(foottraffic_df['ds'])\n",
    "foottraffic_df.info()"
   ]
  },
  {
   "cell_type": "code",
   "execution_count": null,
   "metadata": {},
   "outputs": [],
   "source": [
    "#check\n",
    "foottraffic_df[\"pedestrians\"].value_counts()"
   ]
  },
  {
   "cell_type": "code",
   "execution_count": null,
   "metadata": {},
   "outputs": [],
   "source": [
    "#merged datafames\n",
    "merged_df = pd.merge(merged_df, foottraffic_df, how='left', left_on='ds', right_on='ds')\n",
    "merged_df.head()"
   ]
  }
 ],
 "metadata": {
  "kernelspec": {
   "display_name": "Python 3 (ipykernel)",
   "language": "python",
   "name": "python3"
  },
  "language_info": {
   "codemirror_mode": {
    "name": "ipython",
    "version": 3
   },
   "file_extension": ".py",
   "mimetype": "text/x-python",
   "name": "python",
   "nbconvert_exporter": "python",
   "pygments_lexer": "ipython3",
   "version": "3.10.6"
  },
  "toc": {
   "base_numbering": 1,
   "nav_menu": {},
   "number_sections": true,
   "sideBar": true,
   "skip_h1_title": false,
   "title_cell": "Table of Contents",
   "title_sidebar": "Contents",
   "toc_cell": false,
   "toc_position": {},
   "toc_section_display": true,
   "toc_window_display": false
  }
 },
 "nbformat": 4,
 "nbformat_minor": 4
}
